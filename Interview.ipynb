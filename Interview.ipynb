{
 "cells": [
  {
   "cell_type": "code",
   "execution_count": 1,
   "metadata": {},
   "outputs": [
    {
     "name": "stdout",
     "output_type": "stream",
     "text": [
      "Task 1\n",
      "Ellipsis\n",
      "[(0, 'a'), (1, 'b'), (2, 'c'), (3, 'd'), (4, 'e'), (5, 'f')]\n"
     ]
    }
   ],
   "source": [
    "# Задания составил Alexander Shein\n",
    "# 1) Пронумеруй все элементы строки\n",
    "t1 = 'abcdef'\n",
    "\n",
    "print('Task 1')\n",
    "print(...)\n",
    "# Ответ:\n",
    "print(list(enumerate(t1)))"
   ]
  },
  {
   "cell_type": "code",
   "execution_count": 11,
   "metadata": {},
   "outputs": [
    {
     "name": "stdout",
     "output_type": "stream",
     "text": [
      "Task 2a\n",
      "Ellipsis\n",
      "['162', '164']\n",
      "Task 2b\n",
      "Ellipsis\n",
      "[{'id': '161', 'status': 'pending'}, {'id': '162', 'status': 'cancelled'}, {'id': '163', 'status': 'pending'}, {'id': '164', 'status': 'cancelled'}, {'id': '165', 'status': 'pending'}]\n"
     ]
    }
   ],
   "source": [
    "# 2) Есть список словарей. Как получить id только тех элементов, у которых статус 'cancelled'?\n",
    "\n",
    "t2 = [\n",
    "    {\n",
    "        'id': '161',\n",
    "        'status': 'completed',\n",
    "    },\n",
    "    {\n",
    "        'id': '162',\n",
    "        'status': 'cancelled',\n",
    "    },\n",
    "    {\n",
    "        'id': '163',\n",
    "        'status': 'completed',\n",
    "    },\n",
    "    {\n",
    "        'id': '164',\n",
    "        'status': 'cancelled',\n",
    "    },\n",
    "    {\n",
    "        'id': '165',\n",
    "        'status': 'completed',\n",
    "    },\n",
    "]\n",
    "\n",
    "print('Task 2a')\n",
    "print(...)\n",
    "# Ответ:\n",
    "print([item['id'] for item in filter(lambda x: x['status'] == 'cancelled', t2)])\n",
    "\n",
    "print('Task 2b')\n",
    "print(...)\n",
    "# 2b) Поменять статус на 'pending' только тех элементов, у которых статус 'completed'\n",
    "# Ответ:\n",
    "def change_status(element):\n",
    "    element['status'] = 'pending'\n",
    "\n",
    "list(map(change_status , filter(lambda x: x['status'] == 'completed', t2)))\n",
    "print(t2)"
   ]
  },
  {
   "cell_type": "code",
   "execution_count": 3,
   "metadata": {},
   "outputs": [
    {
     "name": "stdout",
     "output_type": "stream",
     "text": [
      "Task 3\n",
      "Ellipsis\n",
      "25\n"
     ]
    }
   ],
   "source": [
    "# 3) Посчитай число тегов на странице\n",
    "import requests\n",
    "link = 'http://www.ostrovok.ru/'\n",
    "page = requests.get(link)\n",
    "text = page.text\n",
    "\n",
    "print('Task 3')\n",
    "print(...)\n",
    "# Ответ:\n",
    "print(text.count('<') - text.count('</'))"
   ]
  },
  {
   "cell_type": "code",
   "execution_count": 4,
   "metadata": {},
   "outputs": [
    {
     "name": "stdout",
     "output_type": "stream",
     "text": [
      "1\r\n"
     ]
    }
   ],
   "source": [
    "# 4) Посчитай число файлов, не содержащих py в названиях (в bash)\n",
    "# Ответ:\n",
    "!ls | grep -c -v py"
   ]
  }
 ],
 "metadata": {
  "kernelspec": {
   "display_name": "Python 3",
   "language": "python",
   "name": "python3"
  },
  "language_info": {
   "codemirror_mode": {
    "name": "ipython",
    "version": 3
   },
   "file_extension": ".py",
   "mimetype": "text/x-python",
   "name": "python",
   "nbconvert_exporter": "python",
   "pygments_lexer": "ipython3",
   "version": "3.6.4"
  }
 },
 "nbformat": 4,
 "nbformat_minor": 2
}
