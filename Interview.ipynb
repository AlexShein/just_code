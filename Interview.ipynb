{
 "cells": [
  {
   "cell_type": "code",
   "execution_count": 1,
   "metadata": {},
   "outputs": [
    {
     "name": "stdout",
     "output_type": "stream",
     "text": [
      "Task 1\n",
      "Ellipsis\n",
      "[(0, 'a'), (1, 'b'), (2, 'c'), (3, 'd'), (4, 'e'), (5, 'f')]\n"
     ]
    }
   ],
   "source": [
    "# Задания составил Alexander Shein\n",
    "# 1) Пронумеруй все элементы строки\n",
    "t1 = 'abcdef'\n",
    "\n",
    "print('Task 1')\n",
    "print(...)\n",
    "# Ответ:\n",
    "print(list(enumerate(t1)))"
   ]
  },
  {
   "cell_type": "code",
   "execution_count": 2,
   "metadata": {},
   "outputs": [
    {
     "name": "stdout",
     "output_type": "stream",
     "text": [
      "Task 2a\n",
      "Ellipsis\n",
      "['162', '164']\n"
     ]
    }
   ],
   "source": [
    "# 2) Есть список словарей. Как получить id только тех элементов, у которых статус 'cancelled'?\n",
    "\n",
    "t2 = [\n",
    "    {\n",
    "        'id': '161',\n",
    "        'status': 'completed',\n",
    "    },\n",
    "    {\n",
    "        'id': '162',\n",
    "        'status': 'cancelled',\n",
    "    },\n",
    "    {\n",
    "        'id': '163',\n",
    "        'status': 'completed',\n",
    "    },\n",
    "    {\n",
    "        'id': '164',\n",
    "        'status': 'cancelled',\n",
    "    },\n",
    "    {\n",
    "        'id': '165',\n",
    "        'status': 'completed',\n",
    "    },\n",
    "]\n",
    "\n",
    "print('Task 2a')\n",
    "print(...)\n",
    "# Ответ:\n",
    "print([item['id'] for item in filter(lambda x: x['status'] == 'cancelled', t2)])\n"
   ]
  },
  {
   "cell_type": "code",
   "execution_count": 3,
   "metadata": {},
   "outputs": [
    {
     "name": "stdout",
     "output_type": "stream",
     "text": [
      "Task 2b\n",
      "[{'id': '161', 'status': 'pending'}, {'id': '162', 'status': 'cancelled'}, {'id': '163', 'status': 'pending'}, {'id': '164', 'status': 'cancelled'}, {'id': '165', 'status': 'pending'}]\n"
     ]
    }
   ],
   "source": [
    "from copy import deepcopy\n",
    "t2b = deepcopy(t2)\n",
    "print('Task 2b')\n",
    "# 2b) Поменять статус на 'pending' только тех элементов, у которых статус 'completed'\n",
    "# Ответ:\n",
    "# 1\n",
    "# def change_status(element):\n",
    "#     element['status'] = 'pending'\n",
    "# list(map(change_status , filter(lambda x: x['status'] == 'completed', t2b)))\n",
    "# 2\n",
    "list(map(lambda y: y.__setitem__('status', 'pending') , filter(lambda x: x['status'] == 'completed', t2b)))\n",
    "print(t2b)"
   ]
  },
  {
   "cell_type": "code",
   "execution_count": 4,
   "metadata": {},
   "outputs": [
    {
     "name": "stdout",
     "output_type": "stream",
     "text": [
      "Task 3\n",
      "Ellipsis\n",
      "25\n"
     ]
    }
   ],
   "source": [
    "# 3) Посчитай число тегов на странице\n",
    "import requests\n",
    "link = 'http://www.ostrovok.ru/'\n",
    "page = requests.get(link)\n",
    "text = page.text\n",
    "\n",
    "print('Task 3')\n",
    "print(...)\n",
    "# Ответ:\n",
    "print(text.count('<') - text.count('</'))"
   ]
  },
  {
   "cell_type": "code",
   "execution_count": 5,
   "metadata": {},
   "outputs": [
    {
     "name": "stdout",
     "output_type": "stream",
     "text": [
      "19\r\n"
     ]
    }
   ],
   "source": [
    "# 4) Посчитай число файлов, не содержащих py в названиях (в bash)\n",
    "# Ответ:\n",
    "!ls | grep -c -v py"
   ]
  },
  {
   "cell_type": "code",
   "execution_count": 6,
   "metadata": {},
   "outputs": [
    {
     "name": "stdout",
     "output_type": "stream",
     "text": [
      "Execution time: 0.0009436607360839844\n",
      "333283335010\n"
     ]
    }
   ],
   "source": [
    "# 5.1) Напиши декоратор, считающий время выполнения функции\n",
    "# Ответ:\n",
    "import time\n",
    "def wrapper(func):\n",
    "    def wrapped(*args, **kwargs):\n",
    "        begin = time.time()\n",
    "        result = func(*args, **kwargs)\n",
    "        print('Execution time: {}'.format(time.time()-begin))\n",
    "        return result\n",
    "    return wrapped\n",
    "\n",
    "@wrapper\n",
    "def abc(x):\n",
    "    for i in range(1,10000):\n",
    "        x+=i*i\n",
    "    return x\n",
    "\n",
    "print(abc(10))        "
   ]
  },
  {
   "cell_type": "code",
   "execution_count": 7,
   "metadata": {},
   "outputs": [
    {
     "name": "stdout",
     "output_type": "stream",
     "text": [
      "Execution time: 0.0010502338409423828\n"
     ]
    }
   ],
   "source": [
    "# 5.2) Напиши контекстный менеджер, считающий время выполнения функции\n",
    "# Ответ:\n",
    "def abc(x):\n",
    "    for i in range(1,10000):\n",
    "        x+=i*i\n",
    "    return x\n",
    "\n",
    "class timing():\n",
    "    def __enter__(self):\n",
    "        self.begin = time.time()\n",
    "    \n",
    "    def __exit__(self, exc_type, exc_val, exc_tb):\n",
    "        print('Execution time: {}'.format(time.time()-self.begin))\n",
    "\n",
    "with timing():\n",
    "    abc(10)"
   ]
  }
 ],
 "metadata": {
  "kernelspec": {
   "display_name": "Python 3",
   "language": "python",
   "name": "python3"
  },
  "language_info": {
   "codemirror_mode": {
    "name": "ipython",
    "version": 3
   },
   "file_extension": ".py",
   "mimetype": "text/x-python",
   "name": "python",
   "nbconvert_exporter": "python",
   "pygments_lexer": "ipython3",
   "version": "3.6.4"
  }
 },
 "nbformat": 4,
 "nbformat_minor": 2
}
